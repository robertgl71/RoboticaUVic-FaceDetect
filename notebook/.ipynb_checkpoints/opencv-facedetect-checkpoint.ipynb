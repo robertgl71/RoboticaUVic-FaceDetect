{
 "cells": [
  {
   "cell_type": "code",
   "execution_count": null,
   "metadata": {
    "collapsed": false
   },
   "outputs": [],
   "source": [
    "# Get sample video from: https://mega.nz/#!NUtDiTgQ!xFRWP91fdwaoCShTGbVVKXP_sm6PF-pHt5VbNL_s1fE\n",
    "import cv2\n",
    "import numpy as np"
   ]
  },
  {
   "cell_type": "code",
   "execution_count": null,
   "metadata": {
    "collapsed": false
   },
   "outputs": [],
   "source": [
    "# Initialize video capture. if an integer is passed instead of a string\n",
    "# the video source with that index is used\n",
    "video = cv2.VideoCapture('video.mpeg')\n",
    "flag = True\n",
    "# Create window to visualize results\n",
    "cv2.namedWindow('faces')\n",
    "# Initialize face detector object\n",
    "face_detect = cv2.CascadeClassifier('haarcascade_frontalface_default.xml')\n",
    "\n",
    "# Main loop\n",
    "while flag:\n",
    "    # Load next frame\n",
    "    flag, frame = video.read()\n",
    "    # Convert frame to grayscale\n",
    "    gray = cv2.cvtColor(frame, cv2.COLOR_BGR2GRAY)\n",
    "    # Detect faces as rectangles\n",
    "    rects = face_detect.detectMultiScale(gray, scaleFactor=1.3, \n",
    "                                     minNeighbors=4, minSize=(30, 30), \n",
    "                                     flags = cv2.CASCADE_SCALE_IMAGE)\n",
    "    # Copy frame for visualization\n",
    "    img = frame.copy()\n",
    "    green = (0, 255, 0)\n",
    "    # For each detected face...\n",
    "    for x1, y1, x2, y2 in rects:\n",
    "        # Draw rectangle in duplicated image\n",
    "        cv2.rectangle(img, (x1, y1), (x2+x1, y2+y1), green, 2)\n",
    "    # Show in window\n",
    "    cv2.imshow('faces', img)\n",
    "    # Wait for keypress \n",
    "    key = cv2.waitKey(5)\n",
    "    if key == 'q':\n",
    "        flag = False\n",
    "cv2.destroyAllWindows()"
   ]
  },
  {
   "cell_type": "code",
   "execution_count": null,
   "metadata": {
    "collapsed": false
   },
   "outputs": [],
   "source": []
  }
 ],
 "metadata": {
  "anaconda-cloud": {},
  "kernelspec": {
   "display_name": "Python [default]",
   "language": "python",
   "name": "python2"
  },
  "language_info": {
   "codemirror_mode": {
    "name": "ipython",
    "version": 2
   },
   "file_extension": ".py",
   "mimetype": "text/x-python",
   "name": "python",
   "nbconvert_exporter": "python",
   "pygments_lexer": "ipython2",
   "version": "2.7.12"
  }
 },
 "nbformat": 4,
 "nbformat_minor": 0
}
